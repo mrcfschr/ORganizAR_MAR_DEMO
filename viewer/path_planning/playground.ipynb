{
 "cells": [
  {
   "cell_type": "code",
   "execution_count": 1,
   "outputs": [],
   "source": [
    "import numpy as np\n",
    "import torch\n"
   ],
   "metadata": {
    "collapsed": false,
    "ExecuteTime": {
     "end_time": "2024-07-15T18:35:01.542828Z",
     "start_time": "2024-07-15T18:35:00.675128Z"
    }
   },
   "id": "initial_id"
  },
  {
   "cell_type": "code",
   "execution_count": 2,
   "outputs": [],
   "source": [
    "ld = torch.load('./data/filtered_3d_masks.pth', map_location='mps')"
   ],
   "metadata": {
    "collapsed": false,
    "ExecuteTime": {
     "end_time": "2024-07-15T18:35:01.587836Z",
     "start_time": "2024-07-15T18:35:01.544176Z"
    }
   },
   "id": "cfdbfeb8bf167b4b"
  },
  {
   "cell_type": "code",
   "execution_count": 3,
   "outputs": [
    {
     "data": {
      "text/plain": "dict_keys(['ins', 'conf', 'final_class'])"
     },
     "execution_count": 3,
     "metadata": {},
     "output_type": "execute_result"
    }
   ],
   "source": [
    "ld.keys()"
   ],
   "metadata": {
    "collapsed": false,
    "ExecuteTime": {
     "end_time": "2024-07-15T18:35:01.594399Z",
     "start_time": "2024-07-15T18:35:01.589975Z"
    }
   },
   "id": "6013e7ce1fe457c5"
  },
  {
   "cell_type": "code",
   "execution_count": 4,
   "outputs": [
    {
     "data": {
      "text/plain": "torch.Size([11, 288792])"
     },
     "execution_count": 4,
     "metadata": {},
     "output_type": "execute_result"
    }
   ],
   "source": [
    "ld['ins'].shape"
   ],
   "metadata": {
    "collapsed": false,
    "ExecuteTime": {
     "end_time": "2024-07-15T18:35:01.596799Z",
     "start_time": "2024-07-15T18:35:01.593203Z"
    }
   },
   "id": "b866bb389ce4d051"
  },
  {
   "cell_type": "code",
   "execution_count": 5,
   "outputs": [
    {
     "data": {
      "text/plain": "torch.Size([11])"
     },
     "execution_count": 5,
     "metadata": {},
     "output_type": "execute_result"
    }
   ],
   "source": [
    "ld['conf'].shape"
   ],
   "metadata": {
    "collapsed": false,
    "ExecuteTime": {
     "end_time": "2024-07-15T18:35:01.599252Z",
     "start_time": "2024-07-15T18:35:01.596614Z"
    }
   },
   "id": "1d87daa338404809"
  },
  {
   "cell_type": "code",
   "execution_count": 6,
   "outputs": [
    {
     "data": {
      "text/plain": "[tensor(0, device='mps:0'),\n tensor(5, device='mps:0'),\n tensor(5, device='mps:0'),\n tensor(1, device='mps:0'),\n tensor(2, device='mps:0'),\n tensor(5, device='mps:0'),\n tensor(5, device='mps:0'),\n tensor(6, device='mps:0'),\n tensor(4, device='mps:0'),\n tensor(6, device='mps:0'),\n tensor(5, device='mps:0')]"
     },
     "execution_count": 6,
     "metadata": {},
     "output_type": "execute_result"
    }
   ],
   "source": [
    "ld['final_class']"
   ],
   "metadata": {
    "collapsed": false,
    "ExecuteTime": {
     "end_time": "2024-07-15T18:35:01.858464Z",
     "start_time": "2024-07-15T18:35:01.850969Z"
    }
   },
   "id": "19b6d00e4a5675be"
  },
  {
   "cell_type": "code",
   "execution_count": 7,
   "outputs": [],
   "source": [
    "k = [int(i) for i in ld['final_class']]"
   ],
   "metadata": {
    "collapsed": false,
    "ExecuteTime": {
     "end_time": "2024-07-15T18:35:02.760681Z",
     "start_time": "2024-07-15T18:35:02.754105Z"
    }
   },
   "id": "8de6755d11b3e9d6"
  },
  {
   "cell_type": "code",
   "execution_count": 8,
   "outputs": [
    {
     "data": {
      "text/plain": "int"
     },
     "execution_count": 8,
     "metadata": {},
     "output_type": "execute_result"
    }
   ],
   "source": [
    "type(k[0])\n"
   ],
   "metadata": {
    "collapsed": false,
    "ExecuteTime": {
     "end_time": "2024-07-15T18:35:03.476117Z",
     "start_time": "2024-07-15T18:35:03.472671Z"
    }
   },
   "id": "a85a52bc320e0ba7"
  },
  {
   "cell_type": "code",
   "execution_count": 9,
   "outputs": [
    {
     "data": {
      "text/plain": "[0, 5, 5, 1, 2, 5, 5, 6, 4, 6, 5]"
     },
     "execution_count": 9,
     "metadata": {},
     "output_type": "execute_result"
    }
   ],
   "source": [
    "k"
   ],
   "metadata": {
    "collapsed": false,
    "ExecuteTime": {
     "end_time": "2024-07-15T18:35:04.528634Z",
     "start_time": "2024-07-15T18:35:04.524563Z"
    }
   },
   "id": "49442c62af2d98e9"
  },
  {
   "cell_type": "code",
   "execution_count": 11,
   "outputs": [
    {
     "data": {
      "text/plain": "array([], dtype=int64)"
     },
     "execution_count": 11,
     "metadata": {},
     "output_type": "execute_result"
    }
   ],
   "source": [
    "import numpy as np\n",
    "\n"
   ],
   "metadata": {
    "collapsed": false,
    "ExecuteTime": {
     "end_time": "2024-07-15T18:36:01.513409Z",
     "start_time": "2024-07-15T18:36:01.510326Z"
    }
   },
   "id": "282153fe0c908c8f"
  },
  {
   "cell_type": "code",
   "execution_count": 14,
   "outputs": [
    {
     "name": "stdout",
     "output_type": "stream",
     "text": [
      "[10  9  8  7  6  5  4  3  2  1]\n"
     ]
    }
   ],
   "source": [
    "print(np.arange(10,0,-1))"
   ],
   "metadata": {
    "collapsed": false,
    "ExecuteTime": {
     "end_time": "2024-07-15T18:36:22.892262Z",
     "start_time": "2024-07-15T18:36:22.888134Z"
    }
   },
   "id": "1ea885804be7a6d4"
  },
  {
   "cell_type": "code",
   "execution_count": 15,
   "outputs": [
    {
     "name": "stdout",
     "output_type": "stream",
     "text": [
      "[0 1 2 3 4 5 6 7 8 9]\n"
     ]
    }
   ],
   "source": [
    "print(np.arange(0,10))"
   ],
   "metadata": {
    "collapsed": false,
    "ExecuteTime": {
     "end_time": "2024-07-15T18:38:03.015820Z",
     "start_time": "2024-07-15T18:38:03.010506Z"
    }
   },
   "id": "a2f1adea1c1b3303"
  },
  {
   "cell_type": "code",
   "execution_count": null,
   "outputs": [],
   "source": [],
   "metadata": {
    "collapsed": false
   },
   "id": "3c90edfb29e6c8a2"
  }
 ],
 "metadata": {
  "kernelspec": {
   "display_name": "Python 3",
   "language": "python",
   "name": "python3"
  },
  "language_info": {
   "codemirror_mode": {
    "name": "ipython",
    "version": 2
   },
   "file_extension": ".py",
   "mimetype": "text/x-python",
   "name": "python",
   "nbconvert_exporter": "python",
   "pygments_lexer": "ipython2",
   "version": "2.7.6"
  }
 },
 "nbformat": 4,
 "nbformat_minor": 5
}
